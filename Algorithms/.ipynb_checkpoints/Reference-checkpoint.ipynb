{
 "cells": [
  {
   "cell_type": "markdown",
   "metadata": {},
   "source": [
    "### ПАМЯТКА ПО СЛОЖНОСТИ АЛГОРИТМОВ\n",
    "\n",
    "Лариса из Гугла [**советует**](http://larrr.com/pamyatka-po-slozhnosti-algoritmov/): https://www.bigocheatsheet.com/  \n",
    "\n",
    "(_Если вы готовитесь к собеседованиям, то сохраните этот сайт себе в закладки и выучите наизусть. Это самая \n",
    "полезная одна страница по алгоритмам, которую я когда-либо видела!_)\n",
    "\n",
    "\n",
    "### СОВЕТЫ ДЛЯ ИНЖЕНЕРОВ\n",
    "\n",
    "Статья из Гугла для сотрудников, переведенная Ларисой для своего блога.  \n",
    "Много правильных мыслей.  \n",
    "http://larrr.com/sovety-dlya-inzhenerov/"
   ]
  },
  {
   "cell_type": "markdown",
   "metadata": {},
   "source": []
  }
 ],
 "metadata": {
  "kernelspec": {
   "display_name": "Python 3",
   "language": "python",
   "name": "python3"
  },
  "language_info": {
   "codemirror_mode": {
    "name": "ipython",
    "version": 3
   },
   "file_extension": ".py",
   "mimetype": "text/x-python",
   "name": "python",
   "nbconvert_exporter": "python",
   "pygments_lexer": "ipython3",
   "version": "3.8.5"
  }
 },
 "nbformat": 4,
 "nbformat_minor": 4
}
