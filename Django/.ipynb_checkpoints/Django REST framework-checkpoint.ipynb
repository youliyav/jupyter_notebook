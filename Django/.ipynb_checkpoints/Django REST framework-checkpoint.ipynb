{
 "cells": [
  {
   "cell_type": "markdown",
   "metadata": {},
   "source": [
    "### Реализация RESTFul API на Django REST Framework\n",
    "https://www.youtube.com/watch?v=C6S3dMt1s_M&t=1973s&ab_channel=loftblog\n",
    "\n",
    "\n",
    "### Создание Django API используя Django Rest Framework часть 1\n",
    "https://webdevblog.ru/sozdanie-django-api-ispolzuya-django-rest-framework-apiview/\n",
    "\n",
    "\n",
    "### Quickstart\n",
    "https://www.django-rest-framework.org/tutorial/quickstart/"
   ]
  },
  {
   "cell_type": "markdown",
   "metadata": {},
   "source": [
    "### Designing RESTful APIs\n",
    "\n",
    "https://classroom.udacity.com/courses/ud388/lessons/4594018829/concepts/52981798270923"
   ]
  },
  {
   "cell_type": "code",
   "execution_count": null,
   "metadata": {},
   "outputs": [],
   "source": []
  }
 ],
 "metadata": {
  "kernelspec": {
   "display_name": "Python 3",
   "language": "python",
   "name": "python3"
  },
  "language_info": {
   "codemirror_mode": {
    "name": "ipython",
    "version": 3
   },
   "file_extension": ".py",
   "mimetype": "text/x-python",
   "name": "python",
   "nbconvert_exporter": "python",
   "pygments_lexer": "ipython3",
   "version": "3.8.5"
  }
 },
 "nbformat": 4,
 "nbformat_minor": 4
}
