{
 "cells": [
  {
   "cell_type": "markdown",
   "metadata": {},
   "source": [
    "## Словари\n",
    "\n",
    "- **Для проверки слов** (есть такое или выдуманное)  \n",
    "    \n",
    "    https://www.macmillandictionary.com/dictionary/british/wikiality  \n",
    "\n",
    "    https://dictionary.cambridge.org/ru/  \n",
    "\n",
    "\n",
    "- **Американский и Британский словари**  \n",
    "\n",
    "    https://www.lexico.com/  \n",
    "    \n",
    "    \n",
    "- **Слово дня** и аудиоподкаст про него  \n",
    "    \n",
    "    https://www.dictionary.com/\n"
   ]
  },
  {
   "cell_type": "code",
   "execution_count": null,
   "metadata": {},
   "outputs": [],
   "source": []
  }
 ],
 "metadata": {
  "kernelspec": {
   "display_name": "Python 3",
   "language": "python",
   "name": "python3"
  },
  "language_info": {
   "codemirror_mode": {
    "name": "ipython",
    "version": 3
   },
   "file_extension": ".py",
   "mimetype": "text/x-python",
   "name": "python",
   "nbconvert_exporter": "python",
   "pygments_lexer": "ipython3",
   "version": "3.8.5"
  }
 },
 "nbformat": 4,
 "nbformat_minor": 4
}
