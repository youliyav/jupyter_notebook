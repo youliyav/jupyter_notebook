{
 "cells": [
  {
   "cell_type": "markdown",
   "metadata": {},
   "source": [
    "1. [Мирный воин](https://english-films.co/dramas/53-mirnyy-voin-peaceful-warrior-2006-hd-720-ru-eng.html)\n",
    "2. [Королева на Катве](https://english-films.co/biography/1045-koroleva-iz-katve-queen-of-katwe-2016-hd-720-ru-eng.html)\n",
    "3. [Нокдаун](https://english-films.co/biography/72-nokdaun-cinderella-man-2005-hd-720-ru-eng.html)\n",
    "4. [Триумф: история Рона Кларка](https://english-films.co/biography/31-triumf-istoriya-rona-klarka-the-ron-clark-story-2006-hd-720.html)\n",
    "5. [Мадам](https://english-films.co/dramas/6124-madam-madame-2017-hd-720-ru-eng.html)\n",
    "6. [Красавица для чудовища](https://english-films.co/biography/5095-krasavica-dlya-chudovischa-mary-shelley-2017-hd-720-ru-eng.html)\n",
    "7. [Призрачная нить](https://english-films.co/dramas/4239-prizrachnaya-nit-phantom-thread-2017-hd-720-ru-eng.html)\n",
    "8. []()\n",
    "9. []()\n",
    "10. []()\n"
   ]
  },
  {
   "cell_type": "code",
   "execution_count": null,
   "metadata": {},
   "outputs": [],
   "source": []
  }
 ],
 "metadata": {
  "kernelspec": {
   "display_name": "Python 3",
   "language": "python",
   "name": "python3"
  },
  "language_info": {
   "codemirror_mode": {
    "name": "ipython",
    "version": 3
   },
   "file_extension": ".py",
   "mimetype": "text/x-python",
   "name": "python",
   "nbconvert_exporter": "python",
   "pygments_lexer": "ipython3",
   "version": "3.8.5"
  }
 },
 "nbformat": 4,
 "nbformat_minor": 4
}
