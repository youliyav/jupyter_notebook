{
 "cells": [
  {
   "cell_type": "markdown",
   "metadata": {},
   "source": [
    "```\n",
    "Сначала сделайте репозиторий (Name=RepositoryName) на github.\n",
    "Откройте terminal и создайте новый каталог (mkdir NewDirectory).\n",
    "Скопируйте ваш ProjectFolder в этот NewDirectory.\n",
    "Измените текущий рабочий каталог на NewDirectory.\n",
    "Выполните следующие команды\n",
    "git init\n",
    "git add ProjectFolderName\n",
    "git commit-м \"first commit\"\n",
    "git remote добавить источник https://github.com/YourGithubUsername/RepositoryName.git\n",
    "git push-u origin master\n",
    "```"
   ]
  },
  {
   "cell_type": "code",
   "execution_count": null,
   "metadata": {},
   "outputs": [],
   "source": []
  }
 ],
 "metadata": {
  "kernelspec": {
   "display_name": "Python 3",
   "language": "python",
   "name": "python3"
  },
  "language_info": {
   "codemirror_mode": {
    "name": "ipython",
    "version": 3
   },
   "file_extension": ".py",
   "mimetype": "text/x-python",
   "name": "python",
   "nbconvert_exporter": "python",
   "pygments_lexer": "ipython3",
   "version": "3.8.5"
  }
 },
 "nbformat": 4,
 "nbformat_minor": 4
}
