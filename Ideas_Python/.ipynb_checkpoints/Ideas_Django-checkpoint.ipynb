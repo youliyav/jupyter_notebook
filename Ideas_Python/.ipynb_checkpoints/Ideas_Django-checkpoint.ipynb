{
 "cells": [
  {
   "cell_type": "markdown",
   "metadata": {},
   "source": [
    "[Django REST Framework Tutorial][1]\n",
    "\n",
    "[Создание Django API используя Django Rest Framework часть 1][2]\n",
    "\n",
    "[1]:https://data-flair.training/blogs/django-rest-framework/\n",
    "[2]:https://webdevblog.ru/sozdanie-django-api-ispolzuya-django-rest-framework-apiview/"
   ]
  },
  {
   "cell_type": "code",
   "execution_count": null,
   "metadata": {},
   "outputs": [],
   "source": []
  }
 ],
 "metadata": {
  "kernelspec": {
   "display_name": "Python 3",
   "language": "python",
   "name": "python3"
  },
  "language_info": {
   "codemirror_mode": {
    "name": "ipython",
    "version": 3
   },
   "file_extension": ".py",
   "mimetype": "text/x-python",
   "name": "python",
   "nbconvert_exporter": "python",
   "pygments_lexer": "ipython3",
   "version": "3.8.5"
  }
 },
 "nbformat": 4,
 "nbformat_minor": 4
}
