{
 "cells": [
  {
   "cell_type": "markdown",
   "metadata": {},
   "source": [
    "### URLs\n",
    "\n",
    "1. [Вопросы для собеседования Python Junior c GitHub](https://github.com/markdrrr/interview_questions_python_junior/)\n",
    "\n",
    "2. [Правки к предыдущему посту](https://github.com/markdrrr/interview_questions_python_junior/pull/3)\n",
    "\n",
    "3. [150 вопросов для собеседования на вакансию Python. Часть 1 (без опыта работы)](https://kirill-sklyarenko.ru/lenta/150-voprosov-na-sobesedovanie-python-bez-opyta)\n",
    "\n",
    "4. [150 вопросов для собеседования на вакансию Python. Часть 2 (с опытом работы)](https://kirill-sklyarenko.ru/lenta/150-voprosov-na-sobesedovanie-python-s-opytom-raboty)\n",
    "\n",
    "5. [Диджитализируй! Youtube - Что должен знать Python веб-разработчик для приёма на работу?](https://www.youtube.com/watch?v=9kLI6R0heTQ&ab_channel=%D0%94%D0%B8%D0%B4%D0%B6%D0%B8%D1%82%D0%B0%D0%BB%D0%B8%D0%B7%D0%B8%D1%80%D1%83%D0%B9%21)\n",
    "\n",
    "6. [Диджитализируй! Youtube - Как писать резюме программисту? Разбор реальных резюме с точки зрения работодателя](https://github.com/markdrrr/interview_questions_python_junior/)\n",
    "\n",
    "7. [Хабр. Обширный обзор собеседований по Python. Советы и подсказки](https://habr.com/ru/post/439576/)\n",
    "\n",
    "8. [Гришаев. Собеседование. Вопросы для подготовки](https://grishaev.me/interview/)\n",
    "\n",
    "9. [TProger интервью гайд](https://tproger.ru/translations/python-developer-interview-guide/)\n",
    "\n",
    "10. [Питон на Хабре](https://habr.com/ru/post/205944/)\n",
    "\n",
    "8. [Okumy. Youtube - Junior Python Developer: полный разбор собеседования и ответы на наиболее частые вопросы интервью](https://www.youtube.com/watch?v=fgXCN7A8yzg&ab_channel=Okumy)"
   ]
  },
  {
   "cell_type": "markdown",
   "metadata": {},
   "source": [
    "Примеры хороших анкет:\n",
    "    \n",
    "    https://career.habr.com/nikitinaalenka\n",
    "    "
   ]
  },
  {
   "cell_type": "code",
   "execution_count": null,
   "metadata": {},
   "outputs": [],
   "source": []
  }
 ],
 "metadata": {
  "kernelspec": {
   "display_name": "Python 3",
   "language": "python",
   "name": "python3"
  },
  "language_info": {
   "codemirror_mode": {
    "name": "ipython",
    "version": 3
   },
   "file_extension": ".py",
   "mimetype": "text/x-python",
   "name": "python",
   "nbconvert_exporter": "python",
   "pygments_lexer": "ipython3",
   "version": "3.8.5"
  }
 },
 "nbformat": 4,
 "nbformat_minor": 4
}
