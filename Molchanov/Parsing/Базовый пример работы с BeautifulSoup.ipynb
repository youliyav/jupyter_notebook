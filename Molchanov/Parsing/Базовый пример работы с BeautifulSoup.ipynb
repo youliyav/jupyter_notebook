{
 "cells": [
  {
   "cell_type": "markdown",
   "metadata": {},
   "source": [
    "## Базовый пример работы с Beautiful Soup\n",
    "\n",
    "0. Создаем файл **main.py** (парсим на сайте wordpress.org заголовок h1)\n",
    "\n",
    "\n",
    "1. Импортируем библиотеки **requests и bs4 (BeatifulSoup)**\n",
    "\n",
    "\n",
    "2. Создаем точку входа (**if __name__  == '__main__':**) и вызываем функцию **main()**\n",
    "\n",
    "\n",
    "3. Создаем функцию, которая будет слать запрос на сервер и получать ответ (**def get_html(url):**)\n",
    "    - cоздаем переменную r (от response), которая будет принимать значение **r = requests.get(url)**\n",
    "    - возвращаем в функции **return r.text**\n",
    "\n",
    "\n",
    "6. Создаем функцию **def main():** \n",
    "    - Передаем туда в переменную **url** адрес страницы 'https://wordpress.org/'\n",
    "    - вызываем функцию **print(get_html(url))**\n",
    "\n",
    "\n",
    "7. Создаем функцию **def get_data(html):**\n",
    "    - создаем переменную **soup** и передаем туда **BeatifulSoup(html, 'lxml')**\n",
    "    - создаем переменную **h1 = soup.find('div', id='home-welcome').find('header').find('h1')**\n",
    "    - возвращаем h1  (сейчас является элементом soup)\n",
    "    - а если **return h1.text** (h1 становится строкой) и возвращает заголовок\n",
    "\n",
    "\n",
    "8. В def main(): добавляем новый вызов **print(get_data(get_html(url)))**\n"
   ]
  },
  {
   "cell_type": "code",
   "execution_count": 3,
   "metadata": {},
   "outputs": [
    {
     "name": "stdout",
     "output_type": "stream",
     "text": [
      "Meet WordPress\n"
     ]
    }
   ],
   "source": [
    "import requests\n",
    "from bs4 import BeautifulSoup as BS\n",
    "\n",
    "\n",
    "def get_html(url):\n",
    "    r = requests.get(url)\n",
    "    return r.text\n",
    "\n",
    "\n",
    "def get_data(html):\n",
    "    soup = BS(html, 'lxml')\n",
    "    h1 = soup.find('div', id='home-welcome').find('header').find('h1')\n",
    "    return h1.text\n",
    "\n",
    "\n",
    "def main():\n",
    "    url = 'https://wordpress.org'\n",
    "    print(get_data(get_html(url)))\n",
    "\n",
    "\n",
    "if __name__ == '__main__':\n",
    "    main()"
   ]
  },
  {
   "cell_type": "markdown",
   "metadata": {},
   "source": [
    "*через type(r) узнаем тип переменной*\n",
    "```\n",
    "<class 'requests.models.Response'>\n",
    "```\n",
    "\n",
    "*через dir(r) - список всех атрибутов этого объекта, это свойство метода*\n",
    "```\n",
    "['__attrs__', '__bool__', '__class__', '__delattr__', '__dict__', '__dir__', '__doc__', '__enter__', '__eq__', '__exit__', '__format__', '__ge__', '__getattribute__', '__getstate__', '__gt__', '__hash__', '__init__', '__init_subclass__', '__iter__', '__le__', '__lt__', '__module__', '__ne__', '__new__', '__nonzero__', '__reduce__', '__reduce_ex__', '__repr__', '__setattr__', '__setstate__', '__sizeof__', '__str__', '__subclasshook__', '__weakref__', '_content', '_content_consumed', '_next', 'apparent_encoding', 'close', 'connection', 'content', 'cookies', 'elapsed', 'encoding', 'headers', 'history', 'is_permanent_redirect', 'is_redirect', 'iter_content', 'iter_lines', 'json', 'links', 'next', 'ok', 'raise_for_status', 'raw', 'reason', 'request', 'status_code', 'text', 'url']\n",
    "```\n",
    "\n",
    "*Свойство r.status_code получает ответ от сервера (200, 403, 404 и тд)*\n",
    "\n",
    "*Свойство r.ok получаем ответ True*\n",
    "\n",
    "*Свойство r.text выдает полный html код*\n",
    "\n",
    "\n",
    "\n",
    "*type(soup) ->* \n",
    "```\n",
    "<class 'bs4.BeatifulSoup'>\n",
    "```\n",
    "*dir(soup) ->*\n",
    "```\n",
    "['ASCII_SPACES', 'DEFAULT_BUILDER_FEATURES', 'NO_PARSER_SPECIFIED_WARNING', 'ROOT_TAG_NAME', '__bool__', '__call__', '__class__', '__contains__', '__copy__', '__delattr__', '__delitem__', '__dict__', '__dir__', '__doc__', '__eq__', '__format__', '__ge__', '__getattr__', '__getattribute__', '__getitem__', '__getstate__', '__gt__', '__hash__', '__init__', '__init_subclass__', '__iter__', '__le__', '__len__', '__lt__', '__module__', '__ne__', '__new__', '__reduce__', '__reduce_ex__', '__repr__', '__setattr__', '__setitem__', '__sizeof__', '__str__', '__subclasshook__', '__unicode__', '__weakref__', '_all_strings', '_check_markup_is_url', '_decode_markup', '_feed', '_find_all', '_find_one', '_is_xml', '_lastRecursiveChild', '_last_descendant', '_linkage_fixer', '_popToTag', '_should_pretty_print', 'append', 'childGenerator', 'children', 'clear', 'decode', 'decode_contents', 'decompose', 'decomposed', 'descendants', 'encode', 'encode_contents', 'endData', 'extend', 'extract', 'fetchNextSiblings', 'fetchParents', 'fetchPrevious', 'fetchPreviousSiblings', 'find', 'findAll', 'findAllNext', 'findAllPrevious', 'findChild', 'findChildren', 'findNext', 'findNextSibling', 'findNextSiblings', 'findParent', 'findParents', 'findPrevious', 'findPreviousSibling', 'findPreviousSiblings', 'find_all', 'find_all_next', 'find_all_previous', 'find_next', 'find_next_sibling', 'find_next_siblings', 'find_parent', 'find_parents', 'find_previous', 'find_previous_sibling', 'find_previous_siblings', 'format_string', 'formatter_for_name', 'get', 'getText', 'get_attribute_list', 'get_text', 'handle_data', 'handle_endtag', 'handle_starttag', 'has_attr', 'has_key', 'index', 'insert', 'insert_after', 'insert_before', 'isSelfClosing', 'is_empty_element', 'new_string', 'new_tag', 'next', 'nextGenerator', 'nextSibling', 'nextSiblingGenerator', 'next_elements', 'next_siblings', 'object_was_parsed', 'parentGenerator', 'parents', 'parserClass', 'popTag', 'prettify', 'previous', 'previousGenerator', 'previousSibling', 'previousSiblingGenerator', 'previous_elements', 'previous_siblings', 'pushTag', 'recursiveChildGenerator', 'renderContents', 'replaceWith', 'replaceWithChildren', 'replace_with', 'replace_with_children', 'reset', 'select', 'select_one', 'setup', 'smooth', 'string', 'string_container', 'strings', 'stripped_strings', 'text', 'unwrap', 'wrap']\n",
    "\n",
    "``` "
   ]
  },
  {
   "cell_type": "code",
   "execution_count": null,
   "metadata": {},
   "outputs": [],
   "source": []
  }
 ],
 "metadata": {
  "kernelspec": {
   "display_name": "Python 3",
   "language": "python",
   "name": "python3"
  },
  "language_info": {
   "codemirror_mode": {
    "name": "ipython",
    "version": 3
   },
   "file_extension": ".py",
   "mimetype": "text/x-python",
   "name": "python",
   "nbconvert_exporter": "python",
   "pygments_lexer": "ipython3",
   "version": "3.8.5"
  }
 },
 "nbformat": 4,
 "nbformat_minor": 4
}
