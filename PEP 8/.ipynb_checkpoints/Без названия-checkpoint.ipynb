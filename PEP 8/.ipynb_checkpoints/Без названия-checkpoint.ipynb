{
 "cells": [
  {
   "cell_type": "markdown",
   "metadata": {},
   "source": [
    "[Правила оформления Python-кода](https://github.com/netology-code/codestyle/tree/master/python)\n",
    "от Нетологии"
   ]
  },
  {
   "cell_type": "markdown",
   "metadata": {},
   "source": [
    "Don’t reinvent the wheel  \n",
    "\n",
    "    • Check Python’s standard library. \n",
    "    • Check the Python Package Index: https://pypi.org  \n",
    "    • Search the web. Google (Yandex) is your friend.\n",
    "\n",
    "\n",
    "-  https://www.python.org/dev/peps/pep-0008 \n",
    "-  https://www.python.org/dev/peps/pep-0020  \n",
    "-  https://david.goodger.org/projects/pycon/2007/idiomatic/handout.html  \n"
   ]
  },
  {
   "cell_type": "code",
   "execution_count": null,
   "metadata": {},
   "outputs": [],
   "source": []
  }
 ],
 "metadata": {
  "kernelspec": {
   "display_name": "Python 3",
   "language": "python",
   "name": "python3"
  },
  "language_info": {
   "codemirror_mode": {
    "name": "ipython",
    "version": 3
   },
   "file_extension": ".py",
   "mimetype": "text/x-python",
   "name": "python",
   "nbconvert_exporter": "python",
   "pygments_lexer": "ipython3",
   "version": "3.8.5"
  }
 },
 "nbformat": 4,
 "nbformat_minor": 4
}
