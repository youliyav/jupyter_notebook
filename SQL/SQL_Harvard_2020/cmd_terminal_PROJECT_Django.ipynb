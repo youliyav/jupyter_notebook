{
 "cells": [
  {
   "cell_type": "markdown",
   "metadata": {},
   "source": [
    "```\n",
    "$ django-admin startproject airline\n",
    "$ cd airline/\n",
    "$ \\pycharm-community .\n",
    "$ python manage.py startapp flights\n",
    "```"
   ]
  },
  {
   "cell_type": "code",
   "execution_count": null,
   "metadata": {},
   "outputs": [],
   "source": [
    "# В Джанго в папке airline открыть settings.py и добавить приложение flights\n",
    "INSTALLED_APPS = [\n",
    "    'flights',\n",
    "    'django.contrib.admin',\n",
    "    'django.contrib.auth',\n",
    "    'django.contrib.contenttypes',\n",
    "    'django.contrib.sessions',\n",
    "    'django.contrib.messages',\n",
    "    'django.contrib.staticfiles',\n",
    "]\n",
    "\n",
    "# в airline/urls.py добавить модуль include из библиотеки django.urls \n",
    "# в urlpatterns добавить path('flights/', include('flights.urls'))\n",
    "\n",
    "from django.contrib import admin\n",
    "from django.urls import include, path\n",
    "\n",
    "urlpatterns = [\n",
    "    path('admin/', admin.site.urls),\n",
    "    path('flights/', include('flights.urls'))\n",
    "]"
   ]
  },
  {
   "cell_type": "code",
   "execution_count": null,
   "metadata": {},
   "outputs": [],
   "source": [
    "# Переходим в приложение flights и создаем файл urls.py\n",
    "\n",
    "# В файле flights/urls.py создаем список urlpatterns\n",
    "\n",
    "from django.urls import path\n",
    "from . import views\n",
    "\n",
    "urlpatterns = [\n",
    "\n",
    "]"
   ]
  },
  {
   "cell_type": "code",
   "execution_count": null,
   "metadata": {},
   "outputs": [],
   "source": [
    "# В файле flights/models.py прописываем новый класс Flight\n",
    "\n",
    "from django.db import models\n",
    "\n",
    "\n",
    "# Create your models here.\n",
    "class Flight(models.Model):\n",
    "    origin = models.CharField(max_length=64)\n",
    "    destination = models.CharField(max_length=64)\n",
    "    duration = models.IntegerField()"
   ]
  },
  {
   "cell_type": "markdown",
   "metadata": {},
   "source": [
    "```\n",
    "$ python manage.py makemigrations\n",
    "\n",
    "Migrations for 'flights':\n",
    "  flights/migrations/0001_initial.py\n",
    "    - Create model Flight\n",
    "\n",
    "```"
   ]
  },
  {
   "cell_type": "code",
   "execution_count": null,
   "metadata": {},
   "outputs": [],
   "source": [
    "# После команды makemigrations был создан файл 0001_initial.py\n",
    "# В котором создан список operations, где прописаны инструкции для Джанго, как взаимодействовать с БД\n",
    "# чтобы отразить изменения, которые были внесены в модель\n",
    "\n",
    "    operations = [\n",
    "        migrations.CreateModel(\n",
    "            name='Flight',\n",
    "            fields=[\n",
    "                ('id', models.BigAutoField(auto_created=True, primary_key=True, serialize=False, verbose_name='ID')),\n",
    "                ('origin', models.CharField(max_length=64)),\n",
    "                ('destination', models.CharField(max_length=64)),\n",
    "                ('duration', models.IntegerField()),\n",
    "            ],\n",
    "        ),\n",
    "    ]"
   ]
  }
 ],
 "metadata": {
  "kernelspec": {
   "display_name": "Python 3",
   "language": "python",
   "name": "python3"
  },
  "language_info": {
   "codemirror_mode": {
    "name": "ipython",
    "version": 3
   },
   "file_extension": ".py",
   "mimetype": "text/x-python",
   "name": "python",
   "nbconvert_exporter": "python",
   "pygments_lexer": "ipython3",
   "version": "3.8.5"
  }
 },
 "nbformat": 4,
 "nbformat_minor": 4
}
